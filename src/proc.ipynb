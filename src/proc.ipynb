{
 "cells": [
  {
   "cell_type": "code",
   "execution_count": 1,
   "metadata": {},
   "outputs": [],
   "source": [
    "from snowflake.snowpark.types import Variant\n",
    "import snowflake.snowpark.functions as F\n",
    "# def process_coordinates(session: Session) -> Variant:\n",
    "\n",
    "    # coordinates = session.table('test_points')\n",
    "\n",
    "    # a = coordinates.to_df('COORDS', 'START')\n",
    "    # b = coordinates.to_df('COORDS', 'END')\n",
    "\n",
    "    # joined = a.join(b, F.call_builtin('ST_DISTANCE', F.col('START'), F.col('END')) != 0)\n",
    "\n",
    "    \n"
   ]
  },
  {
   "cell_type": "code",
   "execution_count": 3,
   "metadata": {},
   "outputs": [],
   "source": [
    "\n",
    "from snowflake.snowpark import Session\n",
    "\n",
    "connection_parameters = {\n",
    "    \"account\": 'bxrudoe-ea31380',\n",
    "    \"user\": 'LLIU',\n",
    "    \"password\": 'Password1',\n",
    "    \"role\": 'ACCOUNTADMIN',\n",
    "    \"warehouse\": 'COMPUTE_WH',\n",
    "    \"database\": 'PROJECT_SANTA',\n",
    "    \"schema\": 'ROUTES'    \n",
    "}\n",
    "session = Session.builder.configs(connection_parameters).create()\n",
    "# session.sproc.register(\n",
    "#     func=process_coordinates\n",
    "#     ,name='process_coordinates'\n",
    "#     ,packages=['snowflake-snowpark-python']\n",
    "#     ,is_permanent=True\n",
    "#     ,replace=True\n",
    "#     ,stage_location='@SPROC_STAGE'\n",
    "# )"
   ]
  },
  {
   "cell_type": "code",
   "execution_count": 89,
   "metadata": {},
   "outputs": [],
   "source": [
    "# takes a table of of coordinates with a coords column and generates a path that travels to all points \n",
    "# using a \"nearest neighbor\" approach starting from the North Pole\n",
    "\n",
    "\n",
    "\n",
    "METHOD = 'NAIVE'\n",
    "START_COL = 'START'\n",
    "END_COL = 'END'\n",
    "DISTANCE_COL = 'DISTANCE_KM'\n",
    "WKT_FMT_COL = 'WKT'\n",
    "\n",
    "coordinates = session.table('test_points')\n",
    "num_coords = coordinates.count()\n",
    "\n",
    "a = coordinates.rename(F.col('COORDS'), START_COL)\n",
    "b = coordinates.rename(F.col('COORDS'), END_COL)\n",
    "\n",
    "joined = a.join(b, F.call_builtin('POINTS_EQUAL', F.col(START_COL), F.col(END_COL)) != True)\n",
    "\n",
    "available_routes = joined \\\n",
    "    .with_column(DISTANCE_COL, F.call_builtin('ST_DISTANCE', F.col(START_COL), F.col(END_COL))/1000) \\\n",
    "    .withColumn(WKT_FMT_COL, F.call_builtin('ST_ASWKT', F.col(END_COL)))\n",
    "\n",
    "\n",
    "path = []\n",
    "total_distance = 0\n",
    "curr_point = f'POINT({0} {90})'\n",
    "path.append(curr_point)\n",
    "\n",
    "for _ in range(num_coords):\n",
    "    next_destination = available_routes.filter(F.call_builtin('POINTS_EQUAL', F.col(START_COL), F.call_builtin('TO_GEOGRAPHY', curr_point))) \\\n",
    "        .orderBy(F.col(DISTANCE_COL)).limit(1) \\\n",
    "        .collect()\n",
    "    \n",
    "    next_point = next_destination[0][WKT_FMT_COL]\n",
    "    path.append(next_point)\n",
    "    total_distance += next_destination[0][DISTANCE_COL]\n",
    "    curr_point = next_point\n",
    "    \n",
    "    # filter points out from \n",
    "    remaining_routes = available_routes.filter(F.call_builtin('POINTS_EQUAL', F.col(END_COL), F.call_builtin('TO_GEOGRAPHY', curr_point)) == False)\n",
    "\n",
    "nearest_neighbor_path = session.create_dataframe([[path, total_distance, 'naive']], schema=[\"PATH\", \"DISTANCE\", \"METHOD\"])\n",
    "nearest_neighbor_path.write.mode(\"overwrite\").save_as_table(\"route\")\n",
    "\n"
   ]
  }
 ],
 "metadata": {
  "kernelspec": {
   "display_name": "tsp",
   "language": "python",
   "name": "python3"
  },
  "language_info": {
   "codemirror_mode": {
    "name": "ipython",
    "version": 3
   },
   "file_extension": ".py",
   "mimetype": "text/x-python",
   "name": "python",
   "nbconvert_exporter": "python",
   "pygments_lexer": "ipython3",
   "version": "3.10.4"
  }
 },
 "nbformat": 4,
 "nbformat_minor": 2
}
